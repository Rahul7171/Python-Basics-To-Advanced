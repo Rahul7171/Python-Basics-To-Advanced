{
  "nbformat": 4,
  "nbformat_minor": 0,
  "metadata": {
    "colab": {
      "name": "Untitled1.ipynb",
      "provenance": [],
      "authorship_tag": "ABX9TyORtT/1j9wQf7Ls8fdqVo4F",
      "include_colab_link": true
    },
    "kernelspec": {
      "name": "python3",
      "display_name": "Python 3"
    },
    "language_info": {
      "name": "python"
    }
  },
  "cells": [
    {
      "cell_type": "markdown",
      "metadata": {
        "id": "view-in-github",
        "colab_type": "text"
      },
      "source": [
        "<a href=\"https://colab.research.google.com/github/Rahul7171/Python-Basics-To-Advanced/blob/main/Introduction%20To%20Python.ipynb\" target=\"_parent\"><img src=\"https://colab.research.google.com/assets/colab-badge.svg\" alt=\"Open In Colab\"/></a>"
      ]
    },
    {
      "cell_type": "markdown",
      "source": [
        "# **What is Python?**"
      ],
      "metadata": {
        "id": "HXYjN2XVw_UL"
      }
    },
    {
      "cell_type": "markdown",
      "source": [
        " **The** **Nature** **Of** **The** **Language** \n",
        "\n",
        "Developed in 1990, Python is one of the most popular general-purpose programming languages in modern times.\n",
        "\n",
        "**A High Level-Language**\n",
        "\n",
        "Python falls under the category of high-level, interpreted languages. A high-level language is one which cannot be understood directly by our machine. There is a certain degree of abstraction in its syntax. Machines are generally designed to read machine code, but high-level syntax cannot be directly converted to machine code.\n",
        "\n",
        "As a result, it must first be converted to bytecode which is then converted to machine code before the program can be executed.\n",
        "\n",
        "Python is an interpreted language because, during execution, each line is interpreted to the machine language on-the-go.\n",
        "\n",
        "However, if we take the example of C++, the code needs to be compiled into an executable first, and then it can be executed. In Python, we can skip this compilation step (Python does it for us behind the scenes) and directly run the code.\n",
        "\n",
        "**Readability**\n",
        "\n",
        "One of the biggest reasons for Python’s rapid growth is the simplicity of its syntax. The language reads almost like plain English, making it easy to write complex programs.\n",
        "\n",
        "Since it doesn’t have much of a learning curve, Python is a very good entry point into the world of programming for beginners.\n",
        "\n",
        "**Version Histroy**\n",
        "\n",
        "Python has had several major updates in the past. Python 2.7 was widely used for a very long time, even after the release of newer versions.\n",
        "\n",
        "However, Python 2.7 has been deprecated as of January 01 2020, and replaced completely by 3.xx versions, known as Python 3. The differences between Python 2.7 and Python 3 are minute, but important nonetheless.\n",
        "\n",
        "To keep up with the latest technologies, we’ll be dealing with Python 3 for the entirety of this module.\n",
        "\n",
        "**Writing First Code**\n",
        "\n",
        "**The Print Statement**\n",
        "\n",
        "Whenever we learn a new language, it is an age-old tradition to start by displaying the text “Hello World” on the screen. \n",
        "\n",
        "Every language has a different syntax for displaying or printing something on the screen.\n",
        "\n",
        "Since Python is one of the most readable languages out there, we can print data on the terminal by simply using the print statement.\n",
        "\n",
        "\n"
      ],
      "metadata": {
        "id": "MDWGrY25xAjD"
      }
    },
    {
      "cell_type": "code",
      "source": [
        "print(\"Hello World!\")"
      ],
      "metadata": {
        "colab": {
          "base_uri": "https://localhost:8080/"
        },
        "id": "UtV-_COdz_br",
        "outputId": "801472b2-004c-4b85-f28b-df48bc486ab0"
      },
      "execution_count": 1,
      "outputs": [
        {
          "output_type": "stream",
          "name": "stdout",
          "text": [
            "Hello World!\n"
          ]
        }
      ]
    },
    {
      "cell_type": "markdown",
      "source": [
        "The text Hello World is bounded by quotation marks because it is a string or a group of characters"
      ],
      "metadata": {
        "id": "TXFV7Gux0Ux3"
      }
    },
    {
      "cell_type": "code",
      "source": [
        "print(\"Rahul Bagal\")"
      ],
      "metadata": {
        "colab": {
          "base_uri": "https://localhost:8080/"
        },
        "id": "rC9wn7Y30FCI",
        "outputId": "79e7e811-2028-4ade-9a87-ee1a771c1c9f"
      },
      "execution_count": 2,
      "outputs": [
        {
          "output_type": "stream",
          "name": "stdout",
          "text": [
            "Rahul Bagal\n"
          ]
        }
      ]
    },
    {
      "cell_type": "markdown",
      "source": [
        "The text Rahul Bagal is bounded by quotation marks because it is a string or a group of characters"
      ],
      "metadata": {
        "id": "a_qfunaV0Xyx"
      }
    },
    {
      "cell_type": "markdown",
      "source": [
        "**Printing Multiple peices of Data**"
      ],
      "metadata": {
        "id": "ig1RiLWw01cW"
      }
    },
    {
      "cell_type": "code",
      "source": [
        "print(71, 71, \"Rahul Bagal\")"
      ],
      "metadata": {
        "colab": {
          "base_uri": "https://localhost:8080/"
        },
        "id": "Sqfehhbt0mh6",
        "outputId": "0a063e13-7ab7-44fc-a4aa-27e2babf451c"
      },
      "execution_count": 3,
      "outputs": [
        {
          "output_type": "stream",
          "name": "stdout",
          "text": [
            "71 71 Rahul Bagal\n"
          ]
        }
      ]
    },
    {
      "cell_type": "markdown",
      "source": [
        "printing each each new line as a string"
      ],
      "metadata": {
        "id": "FyaU4wHT1B_7"
      }
    },
    {
      "cell_type": "code",
      "source": [
        "print(\"Hello World\",end=\" \") #when we use white space between in the in double quotes get sperated and & when not used get printed as attached\n",
        "print(\"Python\", 3)\n",
        "print(\"Hello World\",end=\"\") \n",
        "print(\"Python\", 3.7)"
      ],
      "metadata": {
        "colab": {
          "base_uri": "https://localhost:8080/"
        },
        "id": "a6xkwhHx1NEH",
        "outputId": "bbfd75e2-9645-4e8e-8b41-c16f3164d3a3"
      },
      "execution_count": 7,
      "outputs": [
        {
          "output_type": "stream",
          "name": "stdout",
          "text": [
            "Hello World Python 3\n",
            "Hello WorldPython 3.7\n"
          ]
        }
      ]
    },
    {
      "cell_type": "markdown",
      "source": [
        "**Comments**\n",
        "\n",
        "*Comments* are pieces of text used to describe what is happening in the code. They have no effect on the code whatsoever.\n",
        "\n",
        "A comment is wrriten using # charachter\n"
      ],
      "metadata": {
        "id": "lxMwbDet216a"
      }
    },
    {
      "cell_type": "code",
      "source": [
        "print(\"Rahul Bagal\")#this line prints my name\n",
        "print(7171)# this line prints 7171\n",
        "\n",
        "# This is just a comment hanging out on its own!\n",
        "\n",
        "# For multi-line comments, we must\n",
        "# add the hashtag symbol\n",
        "# each time\n"
      ],
      "metadata": {
        "id": "5URvNfKJ3Uxm"
      },
      "execution_count": null,
      "outputs": []
    },
    {
      "cell_type": "markdown",
      "source": [
        "An alternative to these multi-line comments (line 4 - 8) are docstrings. They are encased in triple quotes, \"\"\", and can be used to replace multi-line comments:"
      ],
      "metadata": {
        "id": "VYDnVFOs3tKY"
      }
    },
    {
      "cell_type": "code",
      "source": [
        "\"\"\" Docstrings are pretty cool\n",
        "for writing longer comments\n",
        "or notes about the code\"\"\"\n"
      ],
      "metadata": {
        "id": "77U01Kz33x9K"
      },
      "execution_count": null,
      "outputs": []
    },
    {
      "cell_type": "markdown",
      "source": [
        ""
      ],
      "metadata": {
        "id": "H9ZtGbo30MQK"
      }
    }
  ]
}