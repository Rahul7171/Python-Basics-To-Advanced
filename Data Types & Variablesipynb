{
  "nbformat": 4,
  "nbformat_minor": 0,
  "metadata": {
    "colab": {
      "name": "Untitled2.ipynb",
      "provenance": [],
      "authorship_tag": "ABX9TyOfMxTkmw2pXo/xNmlu0KVD",
      "include_colab_link": true
    },
    "kernelspec": {
      "name": "python3",
      "display_name": "Python 3"
    },
    "language_info": {
      "name": "python"
    }
  },
  "cells": [
    {
      "cell_type": "markdown",
      "metadata": {
        "id": "view-in-github",
        "colab_type": "text"
      },
      "source": [
        "<a href=\"https://colab.research.google.com/github/Rahul7171/Python-Basics-To-Advanced/blob/main/Data%20Types%20%26%20Variablesipynb\" target=\"_parent\"><img src=\"https://colab.research.google.com/assets/colab-badge.svg\" alt=\"Open In Colab\"/></a>"
      ]
    },
    {
      "cell_type": "markdown",
      "source": [
        "**Definition**\n",
        "\n",
        "The data type of an item defines the type and range of values that item can have.\n",
        "\n",
        "The concept of data types can be found in the real world. There are numbers, alphabets, characters, etc., that all have unique properties due to their classification\n",
        "\n",
        "**Python’s Data Types**\n",
        "\n",
        "Unlike many other languages, Python does not place a strong emphasis on defining the data type of an object, which makes coding much simpler. The language provides three main data types:\n",
        "\n",
        "**Variables**\n",
        "\n",
        "A variable is simply a name to which a value can be assigned.\n",
        "\n",
        "Variables allow us to give meaningful names to data.\n",
        "\n",
        "The simplest way to assign a value to a variable is through the = operator.\n",
        "\n",
        "A big advantage of variables is that they allow us to store data so that we can use it later to perform operations in the code.\n",
        "\n",
        "Variables are mutable. Hence, the value of a variable can always be updated or replaced.\n",
        "\n",
        " **Naming Convention**\n",
        "\n",
        "- There are certain rules we have to follow when picking the name for a variable:\n",
        "\n",
        "- The name can start with an upper or lower case alphabet.\n",
        "\n",
        "\n",
        "```\n",
        "For example, you can define your income variable as Income or income, both are valid.\n",
        "```\n",
        "- A number can appear in the name, but not at the beginning.\n",
        "\n",
        "\n",
        "```\n",
        "A number can appear in the name, but not at the beginning.\n",
        "```\n",
        "- The _ character can appear anywhere in the name.\n",
        "\n",
        "```\n",
        "For example, _income or income_ are valid names.\n",
        "\n",
        "```\n",
        "- Spaces are not allowed. Instead, we must use snake_case to make variable names readable.\n",
        "\n",
        "```\n",
        "for example, monthly_income is a valid name.\n",
        "```\n",
        "- The name of the variable should be something meaningful that describes the value it holds, instead of being random characters.\n",
        "\n",
        "```\n",
        "For example, inc or even income would not give any useful information but names like weekly_income, monthly_income, or annual_income explain the purpose of our defined variable\n",
        "\n",
        "```\n",
        "**Numbers**\n",
        "\n",
        "Python is one of the most powerful languages when it comes to manipulating numerical data.\n",
        "\n",
        "It is equipped with support for several types of numbers, along with utilities for performing computations on them.\n",
        "\n",
        "**Integers**\n",
        "\n",
        "The integer data type is comprised of all the positive and negative whole numbers.\n",
        "\n",
        "The amount of memory an integer occupies depends on its value. For example, 0 will take up 24 bytes whereas 1 would occupy 28 bytes."
      ],
      "metadata": {
        "id": "G7NtJlbIpmtF"
      }
    },
    {
      "cell_type": "code",
      "execution_count": 2,
      "metadata": {
        "colab": {
          "base_uri": "https://localhost:8080/"
        },
        "id": "dlcRKAZPpTPN",
        "outputId": "2bc8283a-11b3-4013-d7ff-93a4cf8f64f7"
      },
      "outputs": [
        {
          "output_type": "stream",
          "name": "stdout",
          "text": [
            "2000\n",
            "-2000\n",
            "1223000\n",
            "-12232878\n"
          ]
        }
      ],
      "source": [
        "print(2000) # it is a positive integer\n",
        "print(-2000) #it is a negative integer\n",
        "num = 1223000 # Assigned a positive integer value\n",
        "print(num)\n",
        "num = -12232878 # Assigned a negative integer value\n",
        "print(num)"
      ]
    },
    {
      "cell_type": "markdown",
      "source": [
        "\n",
        "\n",
        "```\n",
        "Every negative integer value is denoted by -\n",
        "\n",
        "```\n",
        "**Floating Point Numbers**\n",
        "\n",
        "\n",
        "Floating-point numbers, or floats, refer to positive and negative decimal numbers.\n",
        "\n",
        "Python allows us to create decimals up to a very high decimal place.\n",
        "\n",
        "This ensures accurate computations for precise values.\n",
        "\n",
        "A float occupies 24 bytes of memory."
      ],
      "metadata": {
        "id": "y08PglEgsu1v"
      }
    },
    {
      "cell_type": "code",
      "source": [
        "print(12.12) # it is flaot value\n",
        "print(-12.12) # Negative float value added\n",
        "num = 12.0000 # float value assigned \n",
        "print(num)\n",
        "num = 13.023323 #negative float value added\n",
        "print(num)"
      ],
      "metadata": {
        "colab": {
          "base_uri": "https://localhost:8080/"
        },
        "id": "xopDXewBtH1V",
        "outputId": "05b0eb18-94ef-4a81-8979-95608b1b75cc"
      },
      "execution_count": 3,
      "outputs": [
        {
          "output_type": "stream",
          "name": "stdout",
          "text": [
            "12.12\n",
            "-12.12\n",
            "12.0\n",
            "13.023323\n"
          ]
        }
      ]
    },
    {
      "cell_type": "markdown",
      "source": [
        "In python 12 Is Considered as Integer & 13.00 is Float\n",
        "\n",
        "**Complex Numbers**\n",
        "\n",
        "Python also supports complex numbers, or numbers made up of a real and an imaginary part.\n",
        "\n",
        "Just like the print() statement is used to print values, complex() is used to create complex numbers.\n",
        "\n",
        "It requires two values. The first one will be the real part of the complex number, while the second value will be the imaginary part.\n",
        "```\n",
        "complex (real, imaginary)\n",
        "```"
      ],
      "metadata": {
        "id": "whdWTRK6t3UM"
      }
    },
    {
      "cell_type": "code",
      "source": [
        "print(complex(13, 220)) # complex no has printed\n",
        "print(complex(-20, 2334)) # negative integer and complex number \n",
        "complex_1 = complex(12.5, 13.5)\n",
        "complex_2 = complex(13.5, 25.5)\n",
        "print(complex_1)\n",
        "print(complex_2)"
      ],
      "metadata": {
        "colab": {
          "base_uri": "https://localhost:8080/"
        },
        "id": "ThhUPYuTufuF",
        "outputId": "c6f79ce3-898f-493c-9035-76d77a36514c"
      },
      "execution_count": 7,
      "outputs": [
        {
          "output_type": "stream",
          "name": "stdout",
          "text": [
            "(13+220j)\n",
            "(-20+2334j)\n",
            "(12.5+13.5j)\n",
            "(13.5+25.5j)\n"
          ]
        }
      ]
    },
    {
      "cell_type": "markdown",
      "source": [
        "\n",
        "\n",
        "```\n",
        "Note: In normal mathematics, the imaginary part of a complex number is denoted by i. However, in the code above, it is denoted by j. This is because Python follows the electrical engineering convention which uses j instead of i. Don’t let that confuse you.\n",
        "```\n",
        "\n",
        "Complex numbers are useful for modelling physics and electrical engineering models in Python. While they may not seem very relevant right now, it never hurts to know!\n",
        "\n",
        "A complex number usually takes up 32 bytes of memory.\n",
        "\n",
        "**Booleans**\n",
        "\n",
        "```\n",
        "The Boolean (also known as bool) data type allows us to choose between two values: true and false.\n",
        "```\n",
        "\n",
        "In Python, we can simply use True or False to represent a bool:"
      ],
      "metadata": {
        "id": "rTrAWHKVvsaK"
      }
    },
    {
      "cell_type": "code",
      "source": [
        "a = 9\n",
        "b = 10\n",
        "print(a>b)"
      ],
      "metadata": {
        "colab": {
          "base_uri": "https://localhost:8080/"
        },
        "id": "bs0bGU7kwGYE",
        "outputId": "7a82f80c-de01-4bbf-f503-7c9c319de264"
      },
      "execution_count": 19,
      "outputs": [
        {
          "output_type": "stream",
          "name": "stdout",
          "text": [
            "False\n"
          ]
        }
      ]
    },
    {
      "cell_type": "markdown",
      "source": [
        "```\n",
        "The first letter of a bool needs to be capitalized in Python.\n",
        "```\n",
        "A Boolean is used to determine whether the logic of an expression or a comparison is correct. It plays a huge role in data comparisons.\n",
        "\n"
      ],
      "metadata": {
        "id": "Wyxz0BZnw_px"
      }
    }
  ]
}