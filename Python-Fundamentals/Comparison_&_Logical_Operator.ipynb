{
  "nbformat": 4,
  "nbformat_minor": 0,
  "metadata": {
    "colab": {
      "name": "Comparison & Logical Operator",
      "provenance": []
    },
    "kernelspec": {
      "name": "python3",
      "display_name": "Python 3"
    },
    "language_info": {
      "name": "python"
    }
  },
  "cells": [
    {
      "cell_type": "markdown",
      "source": [
        "\n",
        "**Comparison Operator**\n",
        "\n",
        "```\n",
        ">\tGreater Than\tIn-fix\n",
        "<\tLess Than\tIn-fix\n",
        ">=\tGreater Than or Equal To\tIn-fix\n",
        "<=\tLess Than or Equal To\tIn-fix\n",
        "==\tEqual To\tIn-fix\n",
        "!=\tNot Equal To\tIn-fix\n",
        "is\tEqual To (Identity)\tIn-fix\n",
        "is not\tNot Equal To (Identity)\tIn-fix\n",
        "```\n",
        "**Comparison**\n",
        "\n",
        "The result of a comparison is always a bool.\n",
        "\n",
        "If the comparison is correct, the value of the bool will be True. Otherwise, its value will be False.\n",
        "\n",
        "The == and != operators compare the values of both operands. However, the identity operators, is and is not, check whether the two operands are the exact same object.\n",
        "\n",
        "\n",
        "\n",
        "\n"
      ],
      "metadata": {
        "id": "hBcG_R2KbyTp"
      }
    },
    {
      "cell_type": "code",
      "execution_count": 6,
      "metadata": {
        "colab": {
          "base_uri": "https://localhost:8080/"
        },
        "id": "H5tBVJUXbveN",
        "outputId": "96b0c4a2-3106-4941-ad35-f0d9f8593037"
      },
      "outputs": [
        {
          "output_type": "stream",
          "name": "stdout",
          "text": [
            "False\n",
            "True\n",
            "True\n",
            "False\n",
            "False\n",
            "True\n",
            "True\n",
            "False\n",
            "True\n",
            "False\n",
            "False\n",
            "True\n",
            "True\n",
            "False\n",
            "True\n"
          ]
        }
      ],
      "source": [
        "num1 = 123\n",
        "num2 = 223\n",
        "num3 = 330\n",
        " \n",
        "print(num1 > num2)\n",
        "print(num1 < num3)\n",
        "print(num1 < num3)\n",
        "\n",
        "print(num1 == num3)\n",
        "print(num1 >= num3)\n",
        "print(num1 <= num3)\n",
        "print(num1 != num3)\n",
        "print(num1 is num3)\n",
        "print(num1 is not num3)\n",
        "print(num1 == num3)\n",
        "print(num1 >= num2)\n",
        "print(num1 <= num2)\n",
        "print(num1 != num2)\n",
        "print(num1 is num2)\n",
        "print(num1 is not num2)"
      ]
    },
    {
      "cell_type": "markdown",
      "source": [
        "**Assignment Operator**\n",
        "\n",
        "This is a category of operators which is used to assign values to a variable. The **=** operator is an assignment operator, but not the only one.\n",
        "\n",
        "\n",
        "```\n",
        "Operator\tPurpose\tNotation\n",
        "=\tAssign\tIn-fix\n",
        "+=\tAdd and Assign\tIn-fix\n",
        "-=\tSubtract and Assign\tIn-fix\n",
        "*=\tMultiply and Assign\tIn-fix\n",
        "/=\tDivide and Assign\tIn-fix\n",
        "//=\tDivide, Floor, and Assign\tIn-fix\n",
        "**=\tRaise power and Assign\tIn-fix\n",
        "%=\tTake Modulo and Assign\tIn-fix\n",
        "|=\tOR and Assign\tIn-fix\n",
        "&=\tAND and Assign\tIn-fix\n",
        "^=\tXOR and Assign\tIn-fix\n",
        ">>=\tRight-shift and Assign\tIn-fix\n",
        "<<=\tLeft-shift and Assign\tIn-fix\n",
        "```\n",
        "**Assigning Values**"
      ],
      "metadata": {
        "id": "sxKEiasweiEf"
      }
    },
    {
      "cell_type": "code",
      "source": [
        "year = 2021 \n",
        "print(year)\n",
        "\n",
        "year = 2021 + 1 # Assigend a value to a variable\n",
        "print(year)\n",
        "\n"
      ],
      "metadata": {
        "colab": {
          "base_uri": "https://localhost:8080/"
        },
        "id": "mPZmolNPdEIU",
        "outputId": "6c3aa1a4-fefc-4d1f-f0c7-8c643096208c"
      },
      "execution_count": 12,
      "outputs": [
        {
          "output_type": "stream",
          "name": "stdout",
          "text": [
            "2021\n",
            "2022\n"
          ]
        }
      ]
    },
    {
      "cell_type": "code",
      "source": [
        "num = 10\n",
        "\n",
        "num += 52\n",
        "print(num)\n",
        "num %= 55\n",
        "print(num)\n",
        "num **= 53\n",
        "print(num)\n",
        "num //= 54\n",
        "print(num)\n",
        "num -= 51\n",
        "print(num)\n"
      ],
      "metadata": {
        "colab": {
          "base_uri": "https://localhost:8080/"
        },
        "id": "hBWrSqijfHJr",
        "outputId": "f49f3c90-6e10-4f7b-ba61-f834a9efa32d"
      },
      "execution_count": 17,
      "outputs": [
        {
          "output_type": "stream",
          "name": "stdout",
          "text": [
            "62\n",
            "7\n",
            "616873509628062366290756156815389726793178407\n",
            "11423583511630784560939928829914624570244044\n",
            "11423583511630784560939928829914624570243993\n"
          ]
        }
      ]
    },
    {
      "cell_type": "markdown",
      "source": [
        "**Logical Operators**\n",
        "\n",
        "Logical operators are used to manipulate the logic of Boolean expressions.\n",
        "```\n",
        "Operator\tPurpose\tNotation\n",
        "and\tAND\tIn-fix\n",
        "or\tOR\tIn-fix\n",
        "not\tNOT\tPrefix\n",
        "```\n",
        "**Logical Expressions**\n",
        "\n",
        "Logical expressions are formed using Booleans and logical operators.\n",
        "\n"
      ],
      "metadata": {
        "id": "ks36pnd7yA7I"
      }
    },
    {
      "cell_type": "code",
      "source": [
        "# OR Expression\n",
        "my_bool = True or False\n",
        "print(my_bool)\n",
        "\n",
        "# AND Expression\n",
        "my_bool = True and False\n",
        "print(my_bool)\n",
        "\n",
        "# NOT expression\n",
        "my_bool = False\n",
        "print(not my_bool)\n"
      ],
      "metadata": {
        "colab": {
          "base_uri": "https://localhost:8080/"
        },
        "id": "hArnQm7NyAwT",
        "outputId": "6ca9e078-a815-4d4d-8b78-bb33dd8f934c"
      },
      "execution_count": 18,
      "outputs": [
        {
          "output_type": "stream",
          "name": "stdout",
          "text": [
            "True\n",
            "False\n",
            "True\n"
          ]
        }
      ]
    },
    {
      "cell_type": "markdown",
      "source": [
        "**Bit Value**\n",
        "\n",
        "\n",
        "All the code we see around us in today’s world is actually made up of bits. Combinations of 1s and 0s form the foundation of programming.\n",
        "\n",
        "In bit terms, the value of True is 1. False corresponds to 0:"
      ],
      "metadata": {
        "id": "vUZkGSt_ysk-"
      }
    },
    {
      "cell_type": "code",
      "source": [
        "print(10 * True)\n",
        "print(10 * False)\n"
      ],
      "metadata": {
        "colab": {
          "base_uri": "https://localhost:8080/"
        },
        "id": "7yL1SBboynWJ",
        "outputId": "63be4933-db72-44b9-fe67-06d2e64e9ec2"
      },
      "execution_count": 19,
      "outputs": [
        {
          "output_type": "stream",
          "name": "stdout",
          "text": [
            "10\n",
            "0\n"
          ]
        }
      ]
    },
    {
      "cell_type": "markdown",
      "source": [
        "The Python interpreter can automatically convert the bool to its numerical form when needed.\n",
        "\n"
      ],
      "metadata": {
        "id": "ZHoid6tvy5l6"
      }
    },
    {
      "cell_type": "code",
      "source": [
        ""
      ],
      "metadata": {
        "id": "WxSg5VMby1cf"
      },
      "execution_count": null,
      "outputs": []
    }
  ]
}