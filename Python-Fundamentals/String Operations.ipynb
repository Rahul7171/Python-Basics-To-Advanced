{
  "nbformat": 4,
  "nbformat_minor": 0,
  "metadata": {
    "colab": {
      "name": "Untitled3.ipynb",
      "provenance": [],
      "authorship_tag": "ABX9TyPa1Gu98BgF8rk8bXDWxhSS",
      "include_colab_link": true
    },
    "kernelspec": {
      "name": "python3",
      "display_name": "Python 3"
    },
    "language_info": {
      "name": "python"
    }
  },
  "cells": [
    {
      "cell_type": "markdown",
      "metadata": {
        "id": "view-in-github",
        "colab_type": "text"
      },
      "source": [
        "<a href=\"https://colab.research.google.com/github/Rahul7171/Python-Basics-To-Advanced/blob/main/String%20Operations.ipynb\" target=\"_parent\"><img src=\"https://colab.research.google.com/assets/colab-badge.svg\" alt=\"Open In Colab\"/></a>"
      ]
    },
    {
      "cell_type": "markdown",
      "source": [
        "**Strings**\n",
        "\n",
        "A group of characters such as this is an example of the string data type.\n",
        "\n",
        "```\n",
        "A string is a collection of characters closed within single,\n",
        " double or triple quotation marks.\n",
        "```\n",
        "A string can also contain a single character or be entirely empty."
      ],
      "metadata": {
        "id": "HdvnV0aV3rUf"
      }
    },
    {
      "cell_type": "code",
      "source": [
        "print(\"Game of Thrones\")\n",
        "print(\"GOT\")\n",
        "a = \"game of thrones\"\n",
        "b = \"GAME OF THRONES\"\n",
        "print(a.upper())\n",
        "print(b.lower())"
      ],
      "metadata": {
        "colab": {
          "base_uri": "https://localhost:8080/"
        },
        "id": "j5g2XFpR4B7b",
        "outputId": "89357efc-6374-4084-f05c-18e86bf9a4c3"
      },
      "execution_count": null,
      "outputs": [
        {
          "output_type": "stream",
          "name": "stdout",
          "text": [
            "Game of Thrones\n",
            "GOT\n",
            "GAME OF THRONES\n",
            "game of thrones\n"
          ]
        }
      ]
    },
    {
      "cell_type": "markdown",
      "source": [
        " **The Length of a String**\n",
        "\n",
        " The length of a string can be found using the len() built-in function. This length indicates the number of characters in the string:"
      ],
      "metadata": {
        "id": "0ud6Rh5Q4_Fq"
      }
    },
    {
      "cell_type": "code",
      "source": [
        "print(len(\"Game of Thrones\"))\n",
        "print(len(\"GOT\"))\n",
        "a = \"game of thrones\"\n",
        "b = \"GAME OF THRONES\"\n",
        "print(a.upper())\n",
        "print(b.lower())"
      ],
      "metadata": {
        "colab": {
          "base_uri": "https://localhost:8080/"
        },
        "id": "3uyL6SdW4qpz",
        "outputId": "b1ce1ec0-1345-449f-dff9-09f761c87cad"
      },
      "execution_count": null,
      "outputs": [
        {
          "output_type": "stream",
          "name": "stdout",
          "text": [
            "15\n",
            "3\n",
            "GAME OF THRONES\n",
            "game of thrones\n"
          ]
        }
      ]
    },
    {
      "cell_type": "markdown",
      "source": [
        "**Indexing**\n",
        "\n",
        "\n",
        "In a string, every character is given a numerical index based on its position."
      ],
      "metadata": {
        "id": "fY4yVjyy5L_z"
      }
    },
    {
      "cell_type": "code",
      "source": [
        "name = \"Aditya gend\"\n",
        "\n",
        "first = name[0]  # Accessing the first character\n",
        "print(first)\n",
        "\n",
        "space = name[5]  # Accessing the empty space in the string\n",
        "print(space)"
      ],
      "metadata": {
        "colab": {
          "base_uri": "https://localhost:8080/"
        },
        "id": "uxbAnuqd5Li4",
        "outputId": "9e314756-8c6c-46d4-f983-63d9361e1bca"
      },
      "execution_count": null,
      "outputs": [
        {
          "output_type": "stream",
          "name": "stdout",
          "text": [
            "A\n",
            "a\n"
          ]
        }
      ]
    },
    {
      "cell_type": "markdown",
      "source": [
        "**Reverse Indexing**\n",
        "\n",
        "Negative indices start from the opposite end of the string. Hence, the -1 index corresponds to the last character:"
      ],
      "metadata": {
        "id": "CzIjbzRE9nj3"
      }
    },
    {
      "cell_type": "code",
      "source": [
        "name = \"Rahul Bagal\"\n",
        "print(name[-2])\n",
        "print(name[-1])"
      ],
      "metadata": {
        "colab": {
          "base_uri": "https://localhost:8080/"
        },
        "id": "zm3Luj-O9shm",
        "outputId": "de4e5ab2-2e4d-4772-eeb5-74e725c1585f"
      },
      "execution_count": null,
      "outputs": [
        {
          "output_type": "stream",
          "name": "stdout",
          "text": [
            "a\n",
            "l\n"
          ]
        }
      ]
    },
    {
      "cell_type": "markdown",
      "source": [
        "\n",
        "**String Immutability**\n",
        "\n",
        "Once we assign a value to a string, we can’t update it later. How about verifying it with an executable below?"
      ],
      "metadata": {
        "id": "P3kqivo_-Aod"
      }
    },
    {
      "cell_type": "code",
      "source": [
        "string = \"this is a string\"\n",
        "string[0] = 0 # 0 will give error"
      ],
      "metadata": {
        "id": "7aHdmzTw-AWd",
        "colab": {
          "base_uri": "https://localhost:8080/",
          "height": 181
        },
        "outputId": "0ff00df5-e979-4485-e44b-2e440e5b65b7"
      },
      "execution_count": 33,
      "outputs": [
        {
          "output_type": "error",
          "ename": "TypeError",
          "evalue": "ignored",
          "traceback": [
            "\u001b[0;31m---------------------------------------------------------------------------\u001b[0m",
            "\u001b[0;31mTypeError\u001b[0m                                 Traceback (most recent call last)",
            "\u001b[0;32m<ipython-input-33-7f2ce382b804>\u001b[0m in \u001b[0;36m<module>\u001b[0;34m()\u001b[0m\n\u001b[1;32m      1\u001b[0m \u001b[0mstring\u001b[0m \u001b[0;34m=\u001b[0m \u001b[0;34m\"this is a string\"\u001b[0m\u001b[0;34m\u001b[0m\u001b[0;34m\u001b[0m\u001b[0m\n\u001b[0;32m----> 2\u001b[0;31m \u001b[0mstring\u001b[0m\u001b[0;34m[\u001b[0m\u001b[0;36m0\u001b[0m\u001b[0;34m]\u001b[0m \u001b[0;34m=\u001b[0m \u001b[0;36m0\u001b[0m \u001b[0;31m# 0 will give error\u001b[0m\u001b[0;34m\u001b[0m\u001b[0;34m\u001b[0m\u001b[0m\n\u001b[0m",
            "\u001b[0;31mTypeError\u001b[0m: 'str' object does not support item assignment"
          ]
        }
      ]
    },
    {
      "cell_type": "markdown",
      "source": [
        "The above code gives TypeError because Python doesn’t support item assignment in case of strings.\n",
        "\n",
        "Remember, assigning a new value to string variable doesn’t mean that you’ve changed the value. Let’s verify it with the id() method below."
      ],
      "metadata": {
        "id": "6R8RvJIv-14I"
      }
    },
    {
      "cell_type": "code",
      "source": [
        "str1 = \"Rahul Bagal\"\n",
        "print(id(str1))\n",
        "str1 = \"Bagal\"\n",
        "print(id(str1))"
      ],
      "metadata": {
        "colab": {
          "base_uri": "https://localhost:8080/"
        },
        "id": "qIVQ4COW-wgC",
        "outputId": "52ac32c4-8b13-428e-e7f8-a898f5d3b197"
      },
      "execution_count": 35,
      "outputs": [
        {
          "output_type": "stream",
          "name": "stdout",
          "text": [
            "140618317785072\n",
            "140618317918960\n"
          ]
        }
      ]
    },
    {
      "cell_type": "markdown",
      "source": [
        "\n",
        "```\n",
        "when we assign a new value to str1 (at line 4) its identity \n",
        "\n",
        "changes not the value.\n",
        "```"
      ],
      "metadata": {
        "id": "m3LDUtuD_VAw"
      }
    },
    {
      "cell_type": "markdown",
      "source": [
        "**ASCII Versus Unicode**\n",
        "\n",
        "In Python 3.x, all strings are unicode. But, older versions of Python (Python 2.x) support only ASCII characters. To use unicode in Python 2.x, preceding the string with a u is must. For example:\n",
        "\n"
      ],
      "metadata": {
        "id": "516t1LHf_joT"
      }
    },
    {
      "cell_type": "code",
      "source": [
        "string = u\"My name is rahul bagal\""
      ],
      "metadata": {
        "id": "I8P7mHnR_h9R"
      },
      "execution_count": 38,
      "outputs": []
    },
    {
      "cell_type": "markdown",
      "source": [
        "**String Slicing**\n",
        "\n",
        "\n",
        " **Definition**\n",
        "```\n",
        "Slicing is the process of obtaining a portion (substring) of a \n",
        "string by using its indices.\n",
        "```\n",
        "Given a string, we can use the following template to slice it and obtain a substring:\n",
        "\n",
        "\n",
        "\n",
        "```\n",
        "string[start:end]\n",
        "```\n",
        "\n",
        "\n",
        "1. start is the index from where we want the substring to start.\n",
        "2.   end is the index where we want our substring to end.\n"
      ],
      "metadata": {
        "id": "h4UtyCvi_-As"
      }
    },
    {
      "cell_type": "code",
      "source": [
        "my_string = \"This is my String \"\n",
        "print(my_string[0:2]) # staring till 4th index\n",
        "print(my_string[1:4])\n",
        "print(my_string[8:len(my_string)])"
      ],
      "metadata": {
        "colab": {
          "base_uri": "https://localhost:8080/"
        },
        "id": "XuqkWnhpBAb7",
        "outputId": "efa5261f-d83b-41bc-fa4f-96e7f16aa913"
      },
      "execution_count": 43,
      "outputs": [
        {
          "output_type": "stream",
          "name": "stdout",
          "text": [
            "Th\n",
            "his\n",
            "my String \n"
          ]
        }
      ]
    },
    {
      "cell_type": "markdown",
      "source": [
        "** Slicing with a Step**\n",
        "\n",
        "Python 3 also allows us to slice a string by defining a step through which we can skip characters in the string. The default step is 1, so we iterate through the string one character at a time.\n",
        "\n",
        "The step is defined after the end index:\n",
        "\n",
        "\n",
        "```\n",
        "string[start:end:step]\n",
        "```\n",
        "Let’s see how this works:"
      ],
      "metadata": {
        "id": "3c-fU0PrCUbO"
      }
    },
    {
      "cell_type": "code",
      "source": [
        "my_string = \"This is MY string!\"\n",
        "print(my_string[0:7])  # A step of 1\n",
        "print(my_string[0:7:2])  # A step of 2\n",
        "print(my_string[0:7:5])  # A step of 5\n"
      ],
      "metadata": {
        "colab": {
          "base_uri": "https://localhost:8080/"
        },
        "id": "wpLqmIYdCloG",
        "outputId": "5fd9c7ae-62ec-4277-eb04-02b8db7aa8f0"
      },
      "execution_count": 44,
      "outputs": [
        {
          "output_type": "stream",
          "name": "stdout",
          "text": [
            "This is\n",
            "Ti s\n",
            "Ti\n"
          ]
        }
      ]
    },
    {
      "cell_type": "markdown",
      "source": [
        "**Reverse Slicing**\n",
        "\n",
        "Strings can also be sliced to return a reversed substring. In this case, we would need to switch the order of the start and end indices.\n",
        "\n",
        "A negative step must also be provided:"
      ],
      "metadata": {
        "id": "r7cGT8XqCr-q"
      }
    },
    {
      "cell_type": "code",
      "source": [
        "my_string = \"This is MY string!\"\n",
        "print(my_string[13:2:-1]) # Take 1 step back each time\n",
        "print(my_string[17:0:-2]) # Take 2 steps back. The opposite of what happens in the slide above"
      ],
      "metadata": {
        "colab": {
          "base_uri": "https://localhost:8080/"
        },
        "id": "fIfkb8biCzjm",
        "outputId": "df21a420-9614-480d-c664-d0ef28253ff8"
      },
      "execution_count": 45,
      "outputs": [
        {
          "output_type": "stream",
          "name": "stdout",
          "text": [
            "rts YM si s\n",
            "!nrsY ish\n"
          ]
        }
      ]
    },
    {
      "cell_type": "markdown",
      "source": [
        "** Partial Slicing **\n",
        "\n",
        "\n",
        "One thing to note is that specifying the start and end indices is optional.\n",
        "\n",
        "If start is not provided, the substring will have all the characters until the end index.\n",
        "\n",
        "If end is not provided, the substring will begin from the start index and go all the way to the end.\n",
        "\n",
        "Let’s see this in action:"
      ],
      "metadata": {
        "id": "SiBzAavZC348"
      }
    },
    {
      "cell_type": "code",
      "source": [
        "my_string = \"This is MY string!\"\n",
        "print(my_string[:8])  # All the characters before 'M'\n",
        "print(my_string[8:])  # All the characters starting from 'M'\n",
        "print(my_string[:])  # The whole string\n",
        "print(my_string[::-1])  # The whole string in reverse (step is -1)"
      ],
      "metadata": {
        "colab": {
          "base_uri": "https://localhost:8080/"
        },
        "id": "0PaAom1bC-0Q",
        "outputId": "18b03ef3-8072-4932-8d93-f831c85404cd"
      },
      "execution_count": 46,
      "outputs": [
        {
          "output_type": "stream",
          "name": "stdout",
          "text": [
            "This is \n",
            "MY string!\n",
            "This is MY string!\n",
            "!gnirts YM si sihT\n"
          ]
        }
      ]
    }
  ]
}