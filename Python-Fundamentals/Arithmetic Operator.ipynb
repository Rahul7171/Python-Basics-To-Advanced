{
  "nbformat": 4,
  "nbformat_minor": 0,
  "metadata": {
    "colab": {
      "name": "Untitled6.ipynb",
      "provenance": [],
      "authorship_tag": "ABX9TyNvvxQ+7jmsgDJc3q/JfdYD",
      "include_colab_link": true
    },
    "kernelspec": {
      "name": "python3",
      "display_name": "Python 3"
    },
    "language_info": {
      "name": "python"
    }
  },
  "cells": [
    {
      "cell_type": "markdown",
      "metadata": {
        "id": "view-in-github",
        "colab_type": "text"
      },
      "source": [
        "<a href=\"https://colab.research.google.com/github/Rahul7171/Python-Basics-To-Advanced/blob/main/Arithmetic%20Operator.ipynb\" target=\"_parent\"><img src=\"https://colab.research.google.com/assets/colab-badge.svg\" alt=\"Open In Colab\"/></a>"
      ]
    },
    {
      "cell_type": "markdown",
      "source": [
        "**Operators in Python**\n",
        "\n",
        "Operators are used to perform arithmetic and logical operations on data. They enable us to manipulate and interpret data to produce useful outputs.\n",
        "\n",
        "Operators are represented by characters or special keywords.\n",
        "\n",
        "In general, Python’s operators follow the in-fix or prefix notations.\n",
        "\n",
        "**In-fix** operators appear between two operands (values on which the operator acts) and hence, are usually known as **binary** operators\n",
        "\n",
        "A **prefix** operator usually works on one operand and appears before it. Hence, prefix operators are known as **unary** operators\n",
        "\n",
        "The 5 main operator types in Python are:\n",
        "\n",
        "* Assignment operator   \n",
        "* Arithmetic operator\n",
        "* Relational operator\n",
        "* Logical operator\n",
        "* Bitwise operator\n",
        "\n",
        "**Arithmetic Operator**\n",
        "\n",
        "``` \n",
        "() Parentheses Encapsulates the Precedent Operation\n",
        "** Exponent In-fix\n",
        "%, *, /, // Modulo, Multiplication, Division, Floor Division In-fix\n",
        "+, - Addition, Subtraction In-fix \n",
        "```\n",
        "**Addition**\n",
        "\n",
        "We can Add too no using **+** Operator"
      ],
      "metadata": {
        "id": "J-8tlg2uMTLB"
      }
    },
    {
      "cell_type": "code",
      "source": [
        "print( 10 + 2 )\n",
        "float = 2.5\n",
        "float = 13.5\n",
        "print(float+float)\n",
        "num = 12\n",
        "float = 13.5\n",
        "print(num+float)\n"
      ],
      "metadata": {
        "colab": {
          "base_uri": "https://localhost:8080/"
        },
        "id": "_fkxF9-RJlEF",
        "outputId": "fd9fded7-fb54-497b-da98-c7eb820708b2"
      },
      "execution_count": 12,
      "outputs": [
        {
          "output_type": "stream",
          "name": "stdout",
          "text": [
            "12\n",
            "27.0\n",
            "25.5\n"
          ]
        }
      ]
    },
    {
      "cell_type": "markdown",
      "source": [
        "**Subtraction**\n",
        "\n",
        "We can Subtract using **-** operator"
      ],
      "metadata": {
        "id": "gJqKkf4UQ102"
      }
    },
    {
      "cell_type": "code",
      "source": [
        "print( 10 - 2 )\n",
        "float = 2.5\n",
        "float = 13.5\n",
        "print(float - float)\n",
        "num = 12\n",
        "float = 13.5\n",
        "print(num - float)\n"
      ],
      "metadata": {
        "colab": {
          "base_uri": "https://localhost:8080/"
        },
        "id": "prEI8ha-Qk1g",
        "outputId": "5d650072-16e5-4684-aaf8-8962245fb824"
      },
      "execution_count": 13,
      "outputs": [
        {
          "output_type": "stream",
          "name": "stdout",
          "text": [
            "8\n",
            "0.0\n",
            "-1.5\n"
          ]
        }
      ]
    },
    {
      "cell_type": "markdown",
      "source": [
        "**Multipilication**\n",
        "\n",
        "We can Subtract using ``` * ``` operator"
      ],
      "metadata": {
        "id": "9gm9KSBKRMgO"
      }
    },
    {
      "cell_type": "code",
      "source": [
        "print( 10 * 2 )\n",
        "float = 2.5\n",
        "float = 13.5\n",
        "print(float * float)\n",
        "num = 12\n",
        "float = 13.5\n",
        "print(num * float)\n"
      ],
      "metadata": {
        "colab": {
          "base_uri": "https://localhost:8080/"
        },
        "id": "olo4YRXYRrMr",
        "outputId": "92f089f7-0fcd-4849-e31e-159778ae864d"
      },
      "execution_count": 15,
      "outputs": [
        {
          "output_type": "stream",
          "name": "stdout",
          "text": [
            "20\n",
            "182.25\n",
            "162.0\n"
          ]
        }
      ]
    },
    {
      "cell_type": "markdown",
      "source": [
        "**Division**\n",
        "\n",
        "We can Subtract using **/** operator"
      ],
      "metadata": {
        "id": "wRArUYfyR31F"
      }
    },
    {
      "cell_type": "code",
      "source": [
        "print( 10 / 2 )\n",
        "float = 2.5\n",
        "float = 13.5\n",
        "print(float / float)\n",
        "num = 12\n",
        "float = 13.5\n",
        "print(num / float)\n"
      ],
      "metadata": {
        "colab": {
          "base_uri": "https://localhost:8080/"
        },
        "id": "HYjsPusDRwyg",
        "outputId": "60bac32a-c6ce-4edd-8fe5-5c792612cd82"
      },
      "execution_count": 16,
      "outputs": [
        {
          "output_type": "stream",
          "name": "stdout",
          "text": [
            "5.0\n",
            "1.0\n",
            "0.8888888888888888\n"
          ]
        }
      ]
    },
    {
      "cell_type": "markdown",
      "source": [
        "**Floor Divison**\n",
        "\n",
        "We can Subtract using **//** operator"
      ],
      "metadata": {
        "id": "EwLnTGGzSPgT"
      }
    },
    {
      "cell_type": "code",
      "source": [
        "print( 10 // 2 )\n",
        "float = 2.5\n",
        "float = 13.5\n",
        "print(float // float)\n",
        "num = 12\n",
        "float = 13.5\n",
        "print(num // float)"
      ],
      "metadata": {
        "id": "3GXWkwPaSMJe"
      },
      "execution_count": null,
      "outputs": []
    },
    {
      "cell_type": "markdown",
      "source": [
        "**Mudulo**\n",
        "\n",
        "A number’s modulo with another number can be found using the **%** operator"
      ],
      "metadata": {
        "id": "C2_8Q4JRSeby"
      }
    },
    {
      "cell_type": "code",
      "source": [
        "print(10 % 2)\n",
        "\n",
        "twenty_eight = 28\n",
        "print(twenty_eight % 10)\n",
        "\n",
        "print(-28 % 10)  # The remainder is positive if the right-hand operand is positive\n",
        "print(28 % -10)  # The remainder is negative if the right-hand operand is negative\n",
        "print(34.4 % 2.5)  # The remainder can be a float"
      ],
      "metadata": {
        "colab": {
          "base_uri": "https://localhost:8080/"
        },
        "id": "2pASou7tSw7M",
        "outputId": "5a0d6612-7d8b-4b13-e8c9-5d5ab14b1b57"
      },
      "execution_count": 18,
      "outputs": [
        {
          "output_type": "stream",
          "name": "stdout",
          "text": [
            "0\n",
            "8\n",
            "2\n",
            "-2\n",
            "1.8999999999999986\n"
          ]
        }
      ]
    },
    {
      "cell_type": "markdown",
      "source": [
        "**Precedence**\n",
        "\n",
        "An arithmetic expression containing different operators will be computed on the basis of operator precedence.\n",
        "\n",
        "Whenever operators have equal precedence, the expression is computed from the left side:"
      ],
      "metadata": {
        "id": "AAVUORXOTMhu"
      }
    },
    {
      "cell_type": "code",
      "source": [
        "# Diffrent Precedence\n",
        "\n",
        "print(10 - 2 * 3) # Multiplication is computed over the subtraction\n",
        "print(10 // 2 * 3)\n",
        "# Same Precedence\n",
        "print(10 % 2 * 3) # Mudulos is computed first followed by the is the multiplication\n",
        "print(10 + 2 * 3) # Addition is computed first followed by the is the multiplication\n"
      ],
      "metadata": {
        "colab": {
          "base_uri": "https://localhost:8080/"
        },
        "id": "aoYa8ylQTU94",
        "outputId": "d6466448-c7cf-4e63-c8f7-2e6e8e911dbd"
      },
      "execution_count": 21,
      "outputs": [
        {
          "output_type": "stream",
          "name": "stdout",
          "text": [
            "4\n",
            "15\n",
            "0\n",
            "16\n"
          ]
        }
      ]
    },
    {
      "cell_type": "markdown",
      "source": [
        "**Parentheses**\n",
        "\n",
        "An expression which is enclosed inside parentheses will be computed first, regardless of operator precedence:"
      ],
      "metadata": {
        "id": "u63sUziZUgpR"
      }
    },
    {
      "cell_type": "code",
      "source": [
        "print((100000 - 14) * 13)\n",
        "print((10223 - 12625) * 135)\n",
        "print((102344 - 14233) * 1089)"
      ],
      "metadata": {
        "colab": {
          "base_uri": "https://localhost:8080/"
        },
        "id": "Bx0RfqZfTzlj",
        "outputId": "815784a5-713a-4cf0-e120-a4e0878a016a"
      },
      "execution_count": 38,
      "outputs": [
        {
          "output_type": "stream",
          "name": "stdout",
          "text": [
            "1299818\n",
            "-324270\n",
            "95952879\n"
          ]
        }
      ]
    }
  ]
}